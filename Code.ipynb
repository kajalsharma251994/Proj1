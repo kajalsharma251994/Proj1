{
 "cells": [
  {
   "cell_type": "code",
   "execution_count": 132,
   "id": "b2f1fa2a-97b1-4e91-822e-28ce69c679e5",
   "metadata": {},
   "outputs": [],
   "source": [
    "# Import necessary libraries\n",
    "import requests\n",
    "import pandas as pd\n",
    "import time"
   ]
  },
  {
   "cell_type": "code",
   "execution_count": 133,
   "id": "1f294bd4-4da8-4603-8a4e-806ef6c55695",
   "metadata": {},
   "outputs": [],
   "source": [
    "# --- Configuration ---\n",
    "API_KEY = 'a4ffeb15dbea8c018bf61eeefbaa348c7b63e9c2'  # Replace with your Census API Key\n",
    "STATE_FIPS = '12'  # Florida FIPS code\n",
    "YEARS = [str(year) for year in range(2012, 2025)]\n",
    "POVERTY_VAR = \"S1701_C03_001E\"  # Poverty rate variable for ACS 1-year estimates\n"
   ]
  },
  {
   "cell_type": "code",
   "execution_count": 134,
   "id": "dc444b0e-8dc1-4f83-97c5-14e6e6e035ff",
   "metadata": {},
   "outputs": [],
   "source": [
    "# Define the counties and their FIPS codes\n",
    "county_fips = {\n",
    "    'Alachua': '001', 'Baker': '003', 'Bay': '005', 'Bradford': '007', 'Brevard': '009',\n",
    "    'Broward': '011', 'Calhoun': '013', 'Charlotte': '015', 'Citrus': '017', 'Clay': '019',\n",
    "    'Collier': '021', 'Columbia': '023', 'De Soto': '027', 'Dixie': '029', 'Duval': '031',\n",
    "    'Escambia': '033', 'Flagler': '035', 'Franklin': '037', 'Gadsden': '039', 'Gilchrist': '041',\n",
    "    'Glades': '043', 'Gulf': '045', 'Hamilton': '047', 'Hardee': '049', 'Hendry': '051',\n",
    "    'Hernando': '053', 'Highlands': '055', 'Hillsborough': '057', 'Holmes': '059', 'Indian River': '061',\n",
    "    'Jackson': '063', 'Jefferson': '065', 'Lafayette': '067', 'Lake': '069', 'Lee': '071',\n",
    "    'Leon': '073', 'Levy': '075', 'Liberty': '077', 'Madison': '079', 'Manatee': '081',\n",
    "    'Marion': '083', 'Martin': '085', 'Miami-Dade': '086', 'Monroe': '087', 'Nassau': '089',\n",
    "    'Okaloosa': '091', 'Okeechobee': '093', 'Orange': '095', 'Osceola': '097', 'Palm Beach': '099',\n",
    "    'Pasco': '101', 'Pinellas': '103', 'Polk': '105', 'Putnam': '107', 'Santa Rosa': '113',\n",
    "    'Sarasota': '115', 'Seminole': '117', 'St. Johns': '109', 'St. Lucie': '111', 'Sumter': '119',\n",
    "    'Suwannee': '121', 'Taylor': '123', 'Union': '125', 'Volusia': '127', 'Wakulla': '129',\n",
    "    'Walton': '131', 'Washington': '133'\n",
    "}"
   ]
  },
  {
   "cell_type": "code",
   "execution_count": 135,
   "id": "c881bf3f-3d31-4d03-98c7-671078f828d1",
   "metadata": {},
   "outputs": [],
   "source": [
    "# URL Template (corrected)\n",
    "URL_TEMPLATE = \"https://api.census.gov/data/{year}/acs/acs1/subject?get=NAME,{poverty_var}&for=county:*&in=state:{state}&key={key}\"\n"
   ]
  },
  {
   "cell_type": "code",
   "execution_count": 136,
   "id": "814da0d9-9a4d-468d-a24b-b65dec39ff0b",
   "metadata": {},
   "outputs": [],
   "source": [
    "# Function to fetch poverty data (fixed format)\n",
    "def get_poverty_data(year, state_fips, poverty_var, api_key):\n",
    "    url = URL_TEMPLATE.format(year=year, poverty_var=poverty_var, state=state_fips, key=api_key)\n",
    "    response = requests.get(url)\n",
    "    if response.status_code == 200:\n",
    "        return response.json()\n",
    "    else:\n",
    "        print(f\"❌ Failed to fetch data for {year}. Status code: {response.status_code}\")\n",
    "        return None\n"
   ]
  },
  {
   "cell_type": "code",
   "execution_count": 137,
   "id": "a616ed08-8a3e-495b-9a71-a9a1a559d2bf",
   "metadata": {},
   "outputs": [],
   "source": [
    "# --- Collect Data ---\n",
    "all_data = []"
   ]
  },
  {
   "cell_type": "code",
   "execution_count": 138,
   "id": "0ca7171a-6f46-444b-8a5b-8d7c590eb0a8",
   "metadata": {},
   "outputs": [
    {
     "name": "stdout",
     "output_type": "stream",
     "text": [
      "📅 Fetching data for 2012...\n",
      "📅 Fetching data for 2013...\n",
      "📅 Fetching data for 2014...\n",
      "📅 Fetching data for 2015...\n",
      "📅 Fetching data for 2016...\n",
      "📅 Fetching data for 2017...\n",
      "📅 Fetching data for 2018...\n",
      "📅 Fetching data for 2019...\n",
      "📅 Fetching data for 2020...\n",
      "❌ Failed to fetch data for 2020. Status code: 404\n",
      "📅 Fetching data for 2021...\n",
      "📅 Fetching data for 2022...\n",
      "📅 Fetching data for 2023...\n",
      "📅 Fetching data for 2024...\n",
      "❌ Failed to fetch data for 2024. Status code: 404\n"
     ]
    }
   ],
   "source": [
    "for year in YEARS:\n",
    "    print(f\"📅 Fetching data for {year}...\")\n",
    "    data = get_poverty_data(year, STATE_FIPS, POVERTY_VAR, API_KEY)\n",
    "    if data:\n",
    "        for row in data[1:]:  # Skip header\n",
    "            county_name = row[0].replace(\" County, Florida\", \"\").strip()\n",
    "            rate = row[1]\n",
    "            if rate.replace('.', '', 1).isdigit():\n",
    "                rate = f\"{rate}%\"\n",
    "            else:\n",
    "                rate = \"0%\"\n",
    "            all_data.append([year, county_name, rate])\n",
    "    time.sleep(1)"
   ]
  },
  {
   "cell_type": "code",
   "execution_count": 139,
   "id": "8ea42543-4f16-4f88-8794-f4cdfac14fe7",
   "metadata": {},
   "outputs": [
    {
     "name": "stdout",
     "output_type": "stream",
     "text": [
      "✅ Final data saved to 'florida_poverty_data_2012_2024.xlsx'\n"
     ]
    }
   ],
   "source": [
    "# Create DataFrame\n",
    "df = pd.DataFrame(all_data, columns=[\"Year\", \"County\", \"Poverty_Rate\"])\n",
    "\n",
    "# Remove duplicates (keep first if any duplicates exist)\n",
    "df = df.drop_duplicates(subset=[\"Year\", \"County\"])\n",
    "\n",
    "# Pivot to Year x County format\n",
    "pivot_df = df.pivot(index=\"Year\", columns=\"County\", values=\"Poverty_Rate\")\n",
    "\n",
    "# Add full row for 2020 with \"0%\"\n",
    "pivot_df.loc[\"2020\"] = \"0%\"\n",
    "\n",
    "# Fill any other missing values with \"0%\"\n",
    "pivot_df = pivot_df.fillna(\"0%\")\n",
    "\n",
    "# Sort by year and county name\n",
    "pivot_df = pivot_df.sort_index()\n",
    "pivot_df = pivot_df[sorted(pivot_df.columns)]\n",
    "\n",
    "# Save to Excel\n",
    "output_file = \"florida_poverty_data_2012_2024.xlsx\"\n",
    "pivot_df.to_excel(output_file, sheet_name=\"County-Level Poverty Data\")\n",
    "\n",
    "print(f\"✅ Final data saved to '{output_file}'\")"
   ]
  },
  {
   "cell_type": "code",
   "execution_count": 140,
   "id": "81e2fc8e-0d31-4137-ac4a-19775ea48358",
   "metadata": {},
   "outputs": [
    {
     "name": "stdout",
     "output_type": "stream",
     "text": [
      "County\n",
      "Alachua         0\n",
      "Martin          0\n",
      "Monroe          0\n",
      "Nassau          0\n",
      "Okaloosa        0\n",
      "Orange          0\n",
      "Osceola         0\n",
      "Palm Beach      0\n",
      "Pasco           0\n",
      "Pinellas        0\n",
      "Polk            0\n",
      "Putnam          0\n",
      "Santa Rosa      0\n",
      "Sarasota        0\n",
      "Seminole        0\n",
      "St. Johns       0\n",
      "St. Lucie       0\n",
      "Sumter          0\n",
      "Volusia         0\n",
      "Miami-Dade      0\n",
      "Marion          0\n",
      "Bay             0\n",
      "Manatee         0\n",
      "Brevard         0\n",
      "Broward         0\n",
      "Charlotte       0\n",
      "Citrus          0\n",
      "Clay            0\n",
      "Collier         0\n",
      "Columbia        0\n",
      "Duval           0\n",
      "Escambia        0\n",
      "Flagler         0\n",
      "Hernando        0\n",
      "Highlands       0\n",
      "Hillsborough    0\n",
      "Indian River    0\n",
      "Lake            0\n",
      "Lee             0\n",
      "Leon            0\n",
      "Walton          0\n",
      "dtype: int64\n"
     ]
    }
   ],
   "source": [
    "missing_counts = pivot_df.isna().sum()\n",
    "print(missing_counts.sort_values(ascending=False))\n"
   ]
  },
  {
   "cell_type": "code",
   "execution_count": 98,
   "id": "978afe10-9fa0-4809-9e94-0844d1a33d7b",
   "metadata": {},
   "outputs": [],
   "source": [
    "pivot_df = pivot_df.applymap(lambda x: f\"{x:.1f}%\" if pd.notnull(x) else \"N/A\")\n"
   ]
  },
  {
   "cell_type": "code",
   "execution_count": 102,
   "id": "18822246-704f-4972-b19c-55f23e6f76bc",
   "metadata": {},
   "outputs": [
    {
     "name": "stdout",
     "output_type": "stream",
     "text": [
      "Data saved successfully to florida_poverty_data_2012_2024.xlsx\n"
     ]
    }
   ],
   "source": [
    "# Save the DataFrame to an Excel file\n",
    "output_file = \"florida_poverty_data_2012_2024.xlsx\"\n",
    "try:\n",
    "    if not pivot_df.empty:\n",
    "        pivot_df.to_excel(output_file, sheet_name=\"County_City-Level Poverty Data\", index=True)\n",
    "        print(f\"Data saved successfully to {output_file}\")\n",
    "    else:\n",
    "        print(\"No data to save.\")\n",
    "except Exception as e:\n",
    "    print(f\"Error saving data to Excel: {e}\")"
   ]
  },
  {
   "cell_type": "code",
   "execution_count": 100,
   "id": "fc185444-695b-4ed9-95eb-1bb67e968a54",
   "metadata": {},
   "outputs": [
    {
     "name": "stdout",
     "output_type": "stream",
     "text": [
      "(12, 7)\n",
      "County Alachua County Bay County Duval County Escambia County Franklin County  \\\n",
      "Year                                                                            \n",
      "2012              N/A        N/A          N/A             N/A           22.2%   \n",
      "2013              N/A        N/A          N/A           18.1%             N/A   \n",
      "2014              N/A        N/A          N/A             N/A             N/A   \n",
      "2015              N/A        N/A          N/A           15.8%             N/A   \n",
      "2016              N/A        N/A        16.6%             N/A             N/A   \n",
      "\n",
      "County Palm Beach County Washington County  \n",
      "Year                                        \n",
      "2012                 N/A               N/A  \n",
      "2013                 N/A               N/A  \n",
      "2014                 N/A             19.5%  \n",
      "2015                 N/A               N/A  \n",
      "2016                 N/A               N/A  \n"
     ]
    }
   ],
   "source": [
    "print(pivot_df.shape)\n",
    "print(pivot_df.head())\n"
   ]
  },
  {
   "cell_type": "code",
   "execution_count": 82,
   "id": "9e444ace-a6ad-4255-9aaa-8c0bc116c4af",
   "metadata": {},
   "outputs": [
    {
     "name": "stdout",
     "output_type": "stream",
     "text": [
      "County\n",
      "Bay County           11\n",
      "Franklin County      11\n",
      "Palm Beach County    11\n",
      "Duval County         10\n",
      "Escambia County      10\n",
      "Washington County    10\n",
      "Alachua County        9\n",
      "dtype: int64\n"
     ]
    }
   ],
   "source": []
  },
  {
   "cell_type": "code",
   "execution_count": null,
   "id": "cbf5f556-6f66-448a-9949-10ec5674fc37",
   "metadata": {},
   "outputs": [],
   "source": []
  }
 ],
 "metadata": {
  "kernelspec": {
   "display_name": "anaconda-panel-2023.05-py310",
   "language": "python",
   "name": "conda-env-anaconda-panel-2023.05-py310-py"
  },
  "language_info": {
   "codemirror_mode": {
    "name": "ipython",
    "version": 3
   },
   "file_extension": ".py",
   "mimetype": "text/x-python",
   "name": "python",
   "nbconvert_exporter": "python",
   "pygments_lexer": "ipython3",
   "version": "3.11.5"
  }
 },
 "nbformat": 4,
 "nbformat_minor": 5
}
